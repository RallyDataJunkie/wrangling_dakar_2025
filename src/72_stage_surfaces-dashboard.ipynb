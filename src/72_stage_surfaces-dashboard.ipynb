{
 "cells": [
  {
   "cell_type": "markdown",
   "metadata": {},
   "source": [
    "# Example Dashboard\n",
    "\n",
    "Demo using `voici`.\n",
    "\n",
    "*Currently BROKEN in `voici` dashboard view? The widgets etc. seem to work if I open the source notebook in JupyterLab, but in the `voici` view, the chart is not updated if I change the widget menu options.*"
   ]
  },
  {
   "cell_type": "code",
   "execution_count": 1,
   "metadata": {},
   "outputs": [],
   "source": [
    "# Load in required packages\n",
    "import seaborn as sns\n",
    "import matplotlib.pyplot as plt\n",
    "import pandas as pd\n",
    "\n",
    "# Load in the data from the Dakar live data site\n",
    "from dakar_rallydj.getter import DakarAPIClient\n",
    "\n",
    "dakar = DakarAPIClient(\n",
    "    use_cache=True,\n",
    "    backend='memory',\n",
    "    # cache_name='dakar_cache',\n",
    "    expire_after=3600  # Cache for 1 hour\n",
    ")"
   ]
  },
  {
   "cell_type": "code",
   "execution_count": 2,
   "metadata": {},
   "outputs": [],
   "source": [
    "stages_df, sectors_df, stage_surfaces_df, section_surfaces_df, surfaces_df = dakar.get_stages()\n",
    "\n",
    "# Get distances from percentages\n",
    "stage_surfaces_df = pd.merge(\n",
    "    sectors_df[[\"code\", \"length\"]], stage_surfaces_df, on=\"code\")\n",
    "stage_surfaces_df[\"distance\"] = stage_surfaces_df[\"length\"] * \\\n",
    "    stage_surfaces_df[\"percentage\"]/100\n",
    "\n",
    "# Rename the 0P000 stage to 00000 to make a simpler sort...\n",
    "#sectors_df.loc[sectors_df['code'].str.startswith('0P'), 'stage_code'] = '00000'\n",
    "\n",
    "#sectors_df.sort_values([\"stage_code\", \"sector_number\"], inplace=True)\n",
    "#sectors_df.reset_index(drop=True, inplace=True)"
   ]
  },
  {
   "cell_type": "code",
   "execution_count": 3,
   "metadata": {},
   "outputs": [
    {
     "data": {
      "text/plain": [
       "<Figure size 1000x600 with 0 Axes>"
      ]
     },
     "metadata": {},
     "output_type": "display_data"
    },
    {
     "data": {
      "application/vnd.jupyter.widget-view+json": {
       "model_id": "af6acf46cc544fe3a687d56852634c89",
       "version_major": 2,
       "version_minor": 0
      },
      "text/plain": [
       "interactive(children=(Dropdown(description='Code:', options=('01200', '02200', '03200', '04100', '04200', '051…"
      ]
     },
     "metadata": {},
     "output_type": "display_data"
    }
   ],
   "source": [
    "from ipywidgets import interact, widgets\n",
    "\n",
    "plt.figure(figsize=(10, 6))\n",
    "\n",
    "# Mapping types to colors\n",
    "type_color_map = dict(\n",
    "    zip(stage_surfaces_df['type'], stage_surfaces_df['color']))\n",
    "\n",
    "def plot_stage_surface_chart(selected_code, typ):\n",
    "    plt.clf()\n",
    "\n",
    "    # Filter the DataFrame for the selected code\n",
    "    filtered_df = stage_surfaces_df[stage_surfaces_df['code'] == selected_code]\n",
    "\n",
    "    # Create the plot (remove plt.figure() call)\n",
    "    sns.barplot(\n",
    "        data=filtered_df,\n",
    "        x=\"type\",\n",
    "        y=typ,\n",
    "        palette=type_color_map,\n",
    "        hue=\"type\",\n",
    "        legend=False\n",
    "    )\n",
    "\n",
    "    # Adjust labels and title\n",
    "    plt.title(f\"Dodged Bar Chart for Code {selected_code}\")\n",
    "    plt.xlabel(\"Surface type\")\n",
    "    plt.ylabel(f\"{typ.capitalize()}\")\n",
    "    plt.xticks(rotation=45)\n",
    "    plt.show()\n",
    "    plt.close()\n",
    "\n",
    "\n",
    "# Create dropdown widget\n",
    "code_dropdown = widgets.Dropdown(\n",
    "    options=stage_surfaces_df['code'].unique(),\n",
    "    description='Code:',\n",
    "    value=stage_surfaces_df['code'].unique()[0]\n",
    ")\n",
    "\n",
    "typ_dropdown = widgets.Dropdown(\n",
    "    options=['percentage', 'distance'],  # Add options for Y-axis\n",
    "    description='Y-axis:',\n",
    "    value='percentage')\n",
    "\n",
    "# Interactive plot\n",
    "interact(plot_stage_surface_chart,\n",
    "         selected_code=code_dropdown, typ=typ_dropdown);"
   ]
  },
  {
   "cell_type": "code",
   "execution_count": null,
   "metadata": {},
   "outputs": [],
   "source": []
  }
 ],
 "metadata": {
  "kernelspec": {
   "display_name": "Python 3",
   "language": "python",
   "name": "python3"
  },
  "language_info": {
   "codemirror_mode": {
    "name": "ipython",
    "version": 3
   },
   "file_extension": ".py",
   "mimetype": "text/x-python",
   "name": "python",
   "nbconvert_exporter": "python",
   "pygments_lexer": "ipython3",
   "version": "3.12.8"
  }
 },
 "nbformat": 4,
 "nbformat_minor": 2
}
