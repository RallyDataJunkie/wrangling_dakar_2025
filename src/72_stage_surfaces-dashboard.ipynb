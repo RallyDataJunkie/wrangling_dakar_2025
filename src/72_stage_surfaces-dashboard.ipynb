{
 "cells": [
  {
   "cell_type": "markdown",
   "metadata": {},
   "source": [
    "# Example Dashboard\n",
    "\n",
    "Demo using `voici`."
   ]
  },
  {
   "cell_type": "code",
   "execution_count": null,
   "metadata": {},
   "outputs": [],
   "source": [
    "# Load in required packages\n",
    "import seaborn as sns\n",
    "import matplotlib.pyplot as plt\n",
    "\n",
    "# Load in the data from the Dakar live data site\n",
    "from dakar_rallydj.getter import get_stages\n",
    "\n",
    "stages_df, sectors_df, stage_surfaces_df, section_surfaces_df, surfaces_df = get_stages()\n",
    "\n",
    "# Rename the 0P000 stage to 00000 to make a simpler sort...\n",
    "sectors_df.loc[sectors_df['code'].str.startswith('0P'), 'stage_code'] = '00000'\n",
    "\n",
    "sectors_df.sort_values([\"stage_code\", \"sector_number\"], inplace=True)\n",
    "sectors_df.reset_index(drop=True, inplace=True)"
   ]
  },
  {
   "cell_type": "code",
   "execution_count": null,
   "metadata": {},
   "outputs": [],
   "source": [
    "from ipywidgets import interact, widgets\n",
    "\n",
    "plt.figure(figsize=(10, 6))\n",
    "\n",
    "\n",
    "def plot_stage_surface_chart(selected_code, typ):\n",
    "    plt.clf()\n",
    "\n",
    "    # Filter the DataFrame for the selected code\n",
    "    filtered_df = stage_surfaces_df[stage_surfaces_df['code'] == selected_code]\n",
    "\n",
    "    # Create the plot (remove plt.figure() call)\n",
    "    sns.barplot(\n",
    "        data=filtered_df,\n",
    "        x=\"type\",\n",
    "        y=typ,\n",
    "        palette=type_color_map,\n",
    "        hue=\"type\",\n",
    "        legend=False\n",
    "    )\n",
    "\n",
    "    # Adjust labels and title\n",
    "    plt.title(f\"Dodged Bar Chart for Code {selected_code}\")\n",
    "    plt.xlabel(\"Surface type\")\n",
    "    plt.ylabel(f\"{typ.capitalize()}\")\n",
    "    plt.xticks(rotation=45)\n",
    "    plt.show()\n",
    "    plt.close()\n",
    "\n",
    "\n",
    "# Create dropdown widget\n",
    "code_dropdown = widgets.Dropdown(\n",
    "    options=stage_surfaces_df['code'].unique(),\n",
    "    description='Code:',\n",
    "    value=stage_surfaces_df['code'].unique()[0]\n",
    ")\n",
    "\n",
    "typ_dropdown = widgets.Dropdown(\n",
    "    options=['percentage', 'distance'],  # Add options for Y-axis\n",
    "    description='Y-axis:',\n",
    "    value='percentage')\n",
    "\n",
    "# Interactive plot\n",
    "interact(plot_stage_surface_chart,\n",
    "         selected_code=code_dropdown, typ=typ_dropdown)"
   ]
  }
 ],
 "metadata": {
  "language_info": {
   "name": "python"
  }
 },
 "nbformat": 4,
 "nbformat_minor": 2
}
