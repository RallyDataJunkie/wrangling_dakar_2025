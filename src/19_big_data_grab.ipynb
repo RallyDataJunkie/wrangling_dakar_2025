{
 "cells": [
  {
   "cell_type": "markdown",
   "metadata": {},
   "source": [
    "# Big Data Grab\n",
    "\n",
    "A big grab of all the data to date."
   ]
  },
  {
   "cell_type": "code",
   "execution_count": 1,
   "metadata": {},
   "outputs": [],
   "source": [
    "from dakar_rallydj.getter import DakarAPIClient\n",
    "           \n",
    "\n",
    "def custom_key_fn(request, ignored_parameters=None, match_headers=False, serializer=None, **request_kwargs):\n",
    "    return request.url.split(\"api/\")[-1]  # Store the plain URL as the key\n",
    "\n",
    "dakar = DakarAPIClient(\n",
    "    use_cache=True,\n",
    "    backend='sqlite',\n",
    "    cache_name='dakar_cache_2025',\n",
    "    expire_after=-1,  # Never expire\n",
    "    key_fn=custom_key_fn\n",
    ")"
   ]
  },
  {
   "cell_type": "code",
   "execution_count": 2,
   "metadata": {},
   "outputs": [],
   "source": [
    "all_clazz = [\"A\", \"F\", \"K\", \"M\"]\n",
    "all_stages = range(1, 13)\n",
    "\n",
    "dakar.get_category()\n",
    "dakar.get_groups()\n",
    "dakar.get_clazz(category=all_clazz)\n",
    "dakar.get_withdrawals(category=[\"A\", \"K\", \"M\"])\n",
    "\n",
    "for c in [\"A\", \"M\"]:\n",
    "    dakar.get_stages(category=c)\n",
    "    for s in all_stages:\n",
    "        dakar.get_waypoints(category=c, stage=s)\n",
    "        dakar.get_scores(category=c, stage=s)"
   ]
  },
  {
   "cell_type": "code",
   "execution_count": 3,
   "metadata": {},
   "outputs": [
    {
     "data": {
      "text/plain": [
       "['responses', 'redirects']"
      ]
     },
     "execution_count": 3,
     "metadata": {},
     "output_type": "execute_result"
    }
   ],
   "source": [
    "from sqlite_utils import Database\n",
    "\n",
    "db = Database(\"dakar_cache_2025.sqlite\")  # Custom key function to use raw URLs\n",
    "   \n",
    "db.table_names()"
   ]
  },
  {
   "cell_type": "code",
   "execution_count": null,
   "metadata": {},
   "outputs": [],
   "source": [
    "# The responses are hashed URLs\n",
    "for i, row in enumerate(db[\"responses\"].rows):\n",
    "    print(row)\n",
    "    if i>10:\n",
    "        break"
   ]
  },
  {
   "cell_type": "code",
   "execution_count": null,
   "metadata": {},
   "outputs": [],
   "source": []
  }
 ],
 "metadata": {
  "kernelspec": {
   "display_name": "Python 3",
   "language": "python",
   "name": "python3"
  },
  "language_info": {
   "codemirror_mode": {
    "name": "ipython",
    "version": 3
   },
   "file_extension": ".py",
   "mimetype": "text/x-python",
   "name": "python",
   "nbconvert_exporter": "python",
   "pygments_lexer": "ipython3",
   "version": "3.12.8"
  }
 },
 "nbformat": 4,
 "nbformat_minor": 2
}
