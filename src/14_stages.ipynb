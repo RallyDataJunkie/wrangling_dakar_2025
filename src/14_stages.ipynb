{
 "cells": [
  {
   "cell_type": "markdown",
   "metadata": {},
   "source": [
    "# `stages` Data"
   ]
  },
  {
   "cell_type": "code",
   "execution_count": 83,
   "metadata": {},
   "outputs": [],
   "source": [
    "# Load in the required pandas package\n",
    "import pandas as pd\n",
    "\n",
    "# Also load in our custom function\n",
    "from dakar_utils_2025 import mergeInLangLabels"
   ]
  },
  {
   "cell_type": "code",
   "execution_count": 84,
   "metadata": {},
   "outputs": [
    {
     "data": {
      "text/plain": [
       "('stage-2025-A',\n",
       " 'https://www.dakar.live.worldrallyraidchampionship.com/api/stage-2025-A')"
      ]
     },
     "execution_count": 84,
     "metadata": {},
     "output_type": "execute_result"
    }
   ],
   "source": [
    "# Generate the API URL pattern\n",
    "dakar_api_template = \"https://www.dakar.live.worldrallyraidchampionship.com/api/{path}\"\n",
    "\n",
    "# Define the year\n",
    "YEAR = 2025\n",
    "# Define the category\n",
    "CATEGORY = \"A\"\n",
    "\n",
    "# Define the API path to the stage resource\n",
    "# Use a Python f-string to instantiate variable values directly\n",
    "stage_path = f\"stage-{YEAR}-{CATEGORY}\"\n",
    "\n",
    "# Define the URL\n",
    "stage_url = dakar_api_template.format(path=stage_path)\n",
    "\n",
    "# Preview the path and the URL\n",
    "stage_path, stage_url"
   ]
  },
  {
   "cell_type": "code",
   "execution_count": 85,
   "metadata": {},
   "outputs": [
    {
     "data": {
      "text/plain": [
       "Index(['endDate', 'startDate', 'isCancelled', 'type', 'stage',\n",
       "       'mapCategoryDisplay', 'isDelayed', 'stageLangs', 'sectors', 'length',\n",
       "       'updatedAt', 'podiumDisplay', 'generalDisplay', 'timezone', 'marathon',\n",
       "       'stageWithBonus', 'lastColumnDisplay', 'mapDisplay', 'date',\n",
       "       'groupsAsCategory', 'code', '_id', '_bind', '_origin', '_updatedAt',\n",
       "       '_parent', '_key', 'qualities', '$category', '_gets', 'refueling',\n",
       "       'shortLabel', 'liveDisplay', 'position', 'promotionalDisplay',\n",
       "       'categoryLangs', 'label', 'reference', 'lastStage'],\n",
       "      dtype='object')"
      ]
     },
     "execution_count": 85,
     "metadata": {},
     "output_type": "execute_result"
    }
   ],
   "source": [
    "stage_df = pd.read_json(stage_url)\n",
    "stage_df.columns"
   ]
  },
  {
   "cell_type": "markdown",
   "metadata": {},
   "source": [
    "By inspecting the column names, does the `stageLangs` column define a set of label language mappings, I wonder?"
   ]
  },
  {
   "cell_type": "code",
   "execution_count": 87,
   "metadata": {},
   "outputs": [
    {
     "data": {
      "text/plain": [
       "[{'variable': 'stage.name.09000', 'locale': 'en', 'text': 'RIYADH > HARADH'},\n",
       " {'locale': 'fr', 'variable': 'stage.name.09000', 'text': 'RIYADH > HARADH'},\n",
       " {'variable': 'stage.name.09000', 'text': 'RIYADH > HARADH', 'locale': 'es'},\n",
       " {'variable': 'stage.name.09000', 'text': 'الرياض > حرض', 'locale': 'ar'}]"
      ]
     },
     "execution_count": 87,
     "metadata": {},
     "output_type": "execute_result"
    }
   ],
   "source": [
    "# Preview the first three rows of the stageLangs column\n",
    "stage_df[\"stageLangs\"][0]"
   ]
  },
  {
   "cell_type": "markdown",
   "metadata": {},
   "source": [
    "It looks like it does, so we can flatten that data in using the function we defined in the previous chapter. But what column do we need to merge against?"
   ]
  },
  {
   "cell_type": "code",
   "execution_count": 88,
   "metadata": {},
   "outputs": [
    {
     "data": {
      "text/plain": [
       "endDate                                       2025-01-14T00:00:00+03:00\n",
       "startDate                                     2025-01-14T00:00:00+03:00\n",
       "isCancelled                                                         0.0\n",
       "type                                                                STA\n",
       "stage                                                               9.0\n",
       "mapCategoryDisplay                                                    A\n",
       "isDelayed                                                           0.0\n",
       "stageLangs            [{'variable': 'stage.name.09000', 'locale': 'e...\n",
       "sectors               [{'type': 'LIA', 'groupsLength': [], 'startTim...\n",
       "length                                                            589.0\n",
       "updatedAt                                     2025-01-08T17:24:08+01:00\n",
       "podiumDisplay                                                        ce\n",
       "generalDisplay                                                      1.0\n",
       "timezone                                                    Asia/Riyadh\n",
       "marathon                                                            0.0\n",
       "stageWithBonus                                                      0.0\n",
       "lastColumnDisplay                                                    ce\n",
       "mapDisplay                                                         True\n",
       "date                                          2025-01-14 00:00:00+03:00\n",
       "groupsAsCategory                                                   None\n",
       "code                                                              09000\n",
       "_id                                    5f83172bf9f0bb97d14b83a7c0099fa8\n",
       "_bind                                                      stage-2025-A\n",
       "_origin                                                    stage-2025-A\n",
       "_updatedAt                                                1736353499216\n",
       "_parent                  category-2025:63b4f5da4591200d0a4cc239245eb03a\n",
       "_key                                                              stage\n",
       "qualities                                {'ce': {}, 'cg': {}, 'cs': {}}\n",
       "$category                category-2025:63b4f5da4591200d0a4cc239245eb03a\n",
       "_gets                                         {'category': '$category'}\n",
       "refueling                                                           NaN\n",
       "shortLabel                                                          NaN\n",
       "liveDisplay                                                         NaN\n",
       "position                                                            NaN\n",
       "promotionalDisplay                                                  NaN\n",
       "categoryLangs                                                       NaN\n",
       "label                                                               NaN\n",
       "reference                                                           NaN\n",
       "lastStage                                                           NaN\n",
       "Name: 0, dtype: object"
      ]
     },
     "execution_count": 88,
     "metadata": {},
     "output_type": "execute_result"
    }
   ],
   "source": [
    "# Preview the values in the first row in the dataframe\n",
    "stage_df.iloc[0]"
   ]
  },
  {
   "cell_type": "markdown",
   "metadata": {},
   "source": [
    "Inspection of the columns in the original dataframe suggests there is no direct mapping to the `variable` value, which takes the form `stage.name.09000`. We do note, however, there is a `code` value which maps the numeric part of `variable`, so we can create out own merge column, which we might call `variable`, and then "
   ]
  },
  {
   "cell_type": "code",
   "execution_count": 10,
   "metadata": {},
   "outputs": [
    {
     "data": {
      "text/html": [
       "<div>\n",
       "<style scoped>\n",
       "    .dataframe tbody tr th:only-of-type {\n",
       "        vertical-align: middle;\n",
       "    }\n",
       "\n",
       "    .dataframe tbody tr th {\n",
       "        vertical-align: top;\n",
       "    }\n",
       "\n",
       "    .dataframe thead th {\n",
       "        text-align: right;\n",
       "    }\n",
       "</style>\n",
       "<table border=\"1\" class=\"dataframe\">\n",
       "  <thead>\n",
       "    <tr style=\"text-align: right;\">\n",
       "      <th></th>\n",
       "      <th>code</th>\n",
       "      <th>en</th>\n",
       "      <th>ar</th>\n",
       "    </tr>\n",
       "  </thead>\n",
       "  <tbody>\n",
       "    <tr>\n",
       "      <th>0</th>\n",
       "      <td>09000</td>\n",
       "      <td>RIYADH &gt; HARADH</td>\n",
       "      <td>الرياض &gt; حرض</td>\n",
       "    </tr>\n",
       "    <tr>\n",
       "      <th>1</th>\n",
       "      <td>07000</td>\n",
       "      <td>AL DUWADIMI &gt; AL DUWADIMI</td>\n",
       "      <td>الدوادمي &gt; الدوادمي</td>\n",
       "    </tr>\n",
       "    <tr>\n",
       "      <th>2</th>\n",
       "      <td>06000</td>\n",
       "      <td>HAIL &gt; AL DUWADIMI</td>\n",
       "      <td>حائل &gt; الدوادمي</td>\n",
       "    </tr>\n",
       "    <tr>\n",
       "      <th>3</th>\n",
       "      <td>10000</td>\n",
       "      <td>HARADH &gt; SHUBAYTAH</td>\n",
       "      <td>حرض &gt; شبيطة</td>\n",
       "    </tr>\n",
       "    <tr>\n",
       "      <th>4</th>\n",
       "      <td>0P000</td>\n",
       "      <td>BISHA</td>\n",
       "      <td>BISHA</td>\n",
       "    </tr>\n",
       "  </tbody>\n",
       "</table>\n",
       "</div>"
      ],
      "text/plain": [
       "    code                         en                   ar\n",
       "0  09000            RIYADH > HARADH         الرياض > حرض\n",
       "1  07000  AL DUWADIMI > AL DUWADIMI  الدوادمي > الدوادمي\n",
       "2  06000         HAIL > AL DUWADIMI      حائل > الدوادمي\n",
       "3  10000         HARADH > SHUBAYTAH          حرض > شبيطة\n",
       "4  0P000                      BISHA                BISHA"
      ]
     },
     "execution_count": 10,
     "metadata": {},
     "output_type": "execute_result"
    }
   ],
   "source": [
    "# Create a dummy colum to match on\n",
    "stage_df[\"variable\"] = \"stage.name.\" + stage_df[\"code\"]\n",
    "\n",
    "# Update the dataframe by using our new function to\n",
    "# merge in the exploded and widenened language labels\n",
    "stage_df = mergeInLangLabels(stage_df, \"stageLangs\", key=\"variable\")\n",
    "\n",
    "# Preview the dataframe, limited to a few illustrative columns\n",
    "stage_df[[\"code\", \"en\", \"ar\"]].head()"
   ]
  },
  {
   "cell_type": "markdown",
   "metadata": {},
   "source": [
    "Let's skim the first few rows of the table:"
   ]
  },
  {
   "cell_type": "code",
   "execution_count": 17,
   "metadata": {},
   "outputs": [
    {
     "data": {
      "text/html": [
       "<div>\n",
       "<style scoped>\n",
       "    .dataframe tbody tr th:only-of-type {\n",
       "        vertical-align: middle;\n",
       "    }\n",
       "\n",
       "    .dataframe tbody tr th {\n",
       "        vertical-align: top;\n",
       "    }\n",
       "\n",
       "    .dataframe thead th {\n",
       "        text-align: right;\n",
       "    }\n",
       "</style>\n",
       "<table border=\"1\" class=\"dataframe\">\n",
       "  <thead>\n",
       "    <tr style=\"text-align: right;\">\n",
       "      <th></th>\n",
       "      <th>length</th>\n",
       "      <th>endDate</th>\n",
       "      <th>isDelayed</th>\n",
       "      <th>marathon</th>\n",
       "      <th>mapCategoryDisplay</th>\n",
       "      <th>generalDisplay</th>\n",
       "      <th>date</th>\n",
       "      <th>updatedAt</th>\n",
       "      <th>mapDisplay</th>\n",
       "      <th>timezone</th>\n",
       "      <th>...</th>\n",
       "      <th>position</th>\n",
       "      <th>promotionalDisplay</th>\n",
       "      <th>categoryLangs</th>\n",
       "      <th>label</th>\n",
       "      <th>reference</th>\n",
       "      <th>lastStage</th>\n",
       "      <th>ar</th>\n",
       "      <th>en</th>\n",
       "      <th>es</th>\n",
       "      <th>fr</th>\n",
       "    </tr>\n",
       "  </thead>\n",
       "  <tbody>\n",
       "    <tr>\n",
       "      <th>0</th>\n",
       "      <td>589.0</td>\n",
       "      <td>2025-01-14T00:00:00+03:00</td>\n",
       "      <td>0.0</td>\n",
       "      <td>0.0</td>\n",
       "      <td>A</td>\n",
       "      <td>1.0</td>\n",
       "      <td>2025-01-14 00:00:00+03:00</td>\n",
       "      <td>2025-01-02T09:24:24+01:00</td>\n",
       "      <td>True</td>\n",
       "      <td>Asia/Riyadh</td>\n",
       "      <td>...</td>\n",
       "      <td>NaN</td>\n",
       "      <td>NaN</td>\n",
       "      <td>NaN</td>\n",
       "      <td>NaN</td>\n",
       "      <td>NaN</td>\n",
       "      <td>NaN</td>\n",
       "      <td>الرياض &gt; حرض</td>\n",
       "      <td>RIYADH &gt; HARADH</td>\n",
       "      <td>RIYADH &gt; HARADH</td>\n",
       "      <td>RIYADH &gt; HARADH</td>\n",
       "    </tr>\n",
       "    <tr>\n",
       "      <th>1</th>\n",
       "      <td>742.0</td>\n",
       "      <td>2025-01-12T00:00:00+03:00</td>\n",
       "      <td>0.0</td>\n",
       "      <td>0.0</td>\n",
       "      <td>M</td>\n",
       "      <td>1.0</td>\n",
       "      <td>2025-01-12 00:00:00+03:00</td>\n",
       "      <td>2025-01-02T09:24:24+01:00</td>\n",
       "      <td>True</td>\n",
       "      <td>Asia/Riyadh</td>\n",
       "      <td>...</td>\n",
       "      <td>NaN</td>\n",
       "      <td>NaN</td>\n",
       "      <td>NaN</td>\n",
       "      <td>NaN</td>\n",
       "      <td>NaN</td>\n",
       "      <td>NaN</td>\n",
       "      <td>الدوادمي &gt; الدوادمي</td>\n",
       "      <td>AL DUWADIMI &gt; AL DUWADIMI</td>\n",
       "      <td>AL DUWADIMI &gt; AL DUWADIMI</td>\n",
       "      <td>AL DUWADIMI &gt; AL DUWADIMI</td>\n",
       "    </tr>\n",
       "    <tr>\n",
       "      <th>2</th>\n",
       "      <td>828.0</td>\n",
       "      <td>2025-01-11T00:00:00+03:00</td>\n",
       "      <td>0.0</td>\n",
       "      <td>0.0</td>\n",
       "      <td>A</td>\n",
       "      <td>1.0</td>\n",
       "      <td>2025-01-11 00:00:00+03:00</td>\n",
       "      <td>2025-01-02T09:24:24+01:00</td>\n",
       "      <td>True</td>\n",
       "      <td>Asia/Riyadh</td>\n",
       "      <td>...</td>\n",
       "      <td>NaN</td>\n",
       "      <td>NaN</td>\n",
       "      <td>NaN</td>\n",
       "      <td>NaN</td>\n",
       "      <td>NaN</td>\n",
       "      <td>NaN</td>\n",
       "      <td>حائل &gt; الدوادمي</td>\n",
       "      <td>HAIL &gt; AL DUWADIMI</td>\n",
       "      <td>HAIL &gt; AL DUWADIMI</td>\n",
       "      <td>HAIL &gt; AL DUWADIMI</td>\n",
       "    </tr>\n",
       "    <tr>\n",
       "      <th>3</th>\n",
       "      <td>640.0</td>\n",
       "      <td>2025-01-15T00:00:00+03:00</td>\n",
       "      <td>0.0</td>\n",
       "      <td>0.0</td>\n",
       "      <td>M</td>\n",
       "      <td>1.0</td>\n",
       "      <td>2025-01-15 00:00:00+03:00</td>\n",
       "      <td>2025-01-02T09:24:24+01:00</td>\n",
       "      <td>True</td>\n",
       "      <td>Asia/Riyadh</td>\n",
       "      <td>...</td>\n",
       "      <td>NaN</td>\n",
       "      <td>NaN</td>\n",
       "      <td>NaN</td>\n",
       "      <td>NaN</td>\n",
       "      <td>NaN</td>\n",
       "      <td>NaN</td>\n",
       "      <td>حرض &gt; شبيطة</td>\n",
       "      <td>HARADH &gt; SHUBAYTAH</td>\n",
       "      <td>HARADH &gt; SHUBAYTAH</td>\n",
       "      <td>HARADH &gt; SHUBAYTAH</td>\n",
       "    </tr>\n",
       "    <tr>\n",
       "      <th>4</th>\n",
       "      <td>79.0</td>\n",
       "      <td>2025-01-03T00:00:00+03:00</td>\n",
       "      <td>0.0</td>\n",
       "      <td>0.0</td>\n",
       "      <td>NaN</td>\n",
       "      <td>0.0</td>\n",
       "      <td>2025-01-03 00:00:00+03:00</td>\n",
       "      <td>2025-01-02T09:24:24+01:00</td>\n",
       "      <td>True</td>\n",
       "      <td>Asia/Riyadh</td>\n",
       "      <td>...</td>\n",
       "      <td>NaN</td>\n",
       "      <td>NaN</td>\n",
       "      <td>NaN</td>\n",
       "      <td>NaN</td>\n",
       "      <td>NaN</td>\n",
       "      <td>NaN</td>\n",
       "      <td>BISHA</td>\n",
       "      <td>BISHA</td>\n",
       "      <td>BISHA</td>\n",
       "      <td>BISHA</td>\n",
       "    </tr>\n",
       "  </tbody>\n",
       "</table>\n",
       "<p>5 rows × 42 columns</p>\n",
       "</div>"
      ],
      "text/plain": [
       "   length                    endDate  isDelayed  marathon mapCategoryDisplay  \\\n",
       "0   589.0  2025-01-14T00:00:00+03:00        0.0       0.0                  A   \n",
       "1   742.0  2025-01-12T00:00:00+03:00        0.0       0.0                  M   \n",
       "2   828.0  2025-01-11T00:00:00+03:00        0.0       0.0                  A   \n",
       "3   640.0  2025-01-15T00:00:00+03:00        0.0       0.0                  M   \n",
       "4    79.0  2025-01-03T00:00:00+03:00        0.0       0.0                NaN   \n",
       "\n",
       "   generalDisplay                      date                  updatedAt  \\\n",
       "0             1.0 2025-01-14 00:00:00+03:00  2025-01-02T09:24:24+01:00   \n",
       "1             1.0 2025-01-12 00:00:00+03:00  2025-01-02T09:24:24+01:00   \n",
       "2             1.0 2025-01-11 00:00:00+03:00  2025-01-02T09:24:24+01:00   \n",
       "3             1.0 2025-01-15 00:00:00+03:00  2025-01-02T09:24:24+01:00   \n",
       "4             0.0 2025-01-03 00:00:00+03:00  2025-01-02T09:24:24+01:00   \n",
       "\n",
       "   mapDisplay     timezone  ... position promotionalDisplay categoryLangs  \\\n",
       "0        True  Asia/Riyadh  ...      NaN                NaN           NaN   \n",
       "1        True  Asia/Riyadh  ...      NaN                NaN           NaN   \n",
       "2        True  Asia/Riyadh  ...      NaN                NaN           NaN   \n",
       "3        True  Asia/Riyadh  ...      NaN                NaN           NaN   \n",
       "4        True  Asia/Riyadh  ...      NaN                NaN           NaN   \n",
       "\n",
       "  label reference  lastStage                   ar                         en  \\\n",
       "0   NaN       NaN        NaN         الرياض > حرض            RIYADH > HARADH   \n",
       "1   NaN       NaN        NaN  الدوادمي > الدوادمي  AL DUWADIMI > AL DUWADIMI   \n",
       "2   NaN       NaN        NaN      حائل > الدوادمي         HAIL > AL DUWADIMI   \n",
       "3   NaN       NaN        NaN          حرض > شبيطة         HARADH > SHUBAYTAH   \n",
       "4   NaN       NaN        NaN                BISHA                      BISHA   \n",
       "\n",
       "                          es                         fr  \n",
       "0            RIYADH > HARADH            RIYADH > HARADH  \n",
       "1  AL DUWADIMI > AL DUWADIMI  AL DUWADIMI > AL DUWADIMI  \n",
       "2         HAIL > AL DUWADIMI         HAIL > AL DUWADIMI  \n",
       "3         HARADH > SHUBAYTAH         HARADH > SHUBAYTAH  \n",
       "4                      BISHA                      BISHA  \n",
       "\n",
       "[5 rows x 42 columns]"
      ]
     },
     "execution_count": 17,
     "metadata": {},
     "output_type": "execute_result"
    }
   ],
   "source": [
    "stage_df.head(5)"
   ]
  },
  {
   "cell_type": "markdown",
   "metadata": {},
   "source": [
    "From the date columns, we notice that the dataframe is not ordered. To provide a more natural ordering, we could order the rows by start date, or stage number, which appears to be given by the `stage` column, for example."
   ]
  },
  {
   "cell_type": "markdown",
   "metadata": {},
   "source": [
    "Inspection of the data also reveals that the `sectors` column typically appears to contain three elements: a link sector, the competititve stage sector, and a second link sector. The competitive stage sector is further subdivided into a list of `grounds` or terrain types, with associated language mappings. Within in each ground is a list of `sections` with a `section` number and a `start` and `finish` value that identify start and finish distances in kilometres into the stage for that section."
   ]
  },
  {
   "cell_type": "markdown",
   "metadata": {},
   "source": [
    "## Parsing each row\n",
    "\n",
    "Let's get the JSON `sectors`  data for single row and see if we can find a sensible way of parsing that.\n",
    "\n",
    "I am imagining producing something like a two linked dataframes:\n",
    "\n",
    "- one containing the top-level sector data for each stage;\n",
    "- one containing the surface type by section; I imagine this dataframe to have columns `stage`, `sector`, `section`, `start`, `finish`, `surface_type` and then perhaps language mappings for the surface type."
   ]
  },
  {
   "cell_type": "code",
   "execution_count": 89,
   "metadata": {},
   "outputs": [],
   "source": [
    "_sectors_data = stage_df[\"sectors\"].iloc[0]"
   ]
  },
  {
   "cell_type": "markdown",
   "metadata": {},
   "source": [
    "Let's start by looking at the metadata for each sector."
   ]
  },
  {
   "cell_type": "code",
   "execution_count": 91,
   "metadata": {},
   "outputs": [
    {
     "data": {
      "text/html": [
       "<div>\n",
       "<style scoped>\n",
       "    .dataframe tbody tr th:only-of-type {\n",
       "        vertical-align: middle;\n",
       "    }\n",
       "\n",
       "    .dataframe tbody tr th {\n",
       "        vertical-align: top;\n",
       "    }\n",
       "\n",
       "    .dataframe thead th {\n",
       "        text-align: right;\n",
       "    }\n",
       "</style>\n",
       "<table border=\"1\" class=\"dataframe\">\n",
       "  <thead>\n",
       "    <tr style=\"text-align: right;\">\n",
       "      <th></th>\n",
       "      <th>type</th>\n",
       "      <th>groupsLength</th>\n",
       "      <th>startTime</th>\n",
       "      <th>arrivalTime</th>\n",
       "      <th>id</th>\n",
       "      <th>length</th>\n",
       "      <th>powerStage</th>\n",
       "      <th>code</th>\n",
       "      <th>grounds</th>\n",
       "      <th>groupsLength.A_T5</th>\n",
       "    </tr>\n",
       "  </thead>\n",
       "  <tbody>\n",
       "    <tr>\n",
       "      <th>0</th>\n",
       "      <td>LIA</td>\n",
       "      <td>[]</td>\n",
       "      <td>2025-01-14T04:05:00+00:00</td>\n",
       "      <td>2025-01-14T06:20:00+00:00</td>\n",
       "      <td>23905.0</td>\n",
       "      <td>112.0</td>\n",
       "      <td>False</td>\n",
       "      <td>09100</td>\n",
       "      <td>NaN</td>\n",
       "      <td>NaN</td>\n",
       "    </tr>\n",
       "    <tr>\n",
       "      <th>1</th>\n",
       "      <td>SPE</td>\n",
       "      <td>[]</td>\n",
       "      <td>2025-01-14T06:20:00+00:00</td>\n",
       "      <td>2025-01-14T09:27:00+00:00</td>\n",
       "      <td>23906.0</td>\n",
       "      <td>357.0</td>\n",
       "      <td>False</td>\n",
       "      <td>09200</td>\n",
       "      <td>[{'groundLangs': [{'locale': 'en', 'text': 'Gr...</td>\n",
       "      <td>NaN</td>\n",
       "    </tr>\n",
       "    <tr>\n",
       "      <th>2</th>\n",
       "      <td>LIA</td>\n",
       "      <td>[]</td>\n",
       "      <td>2025-01-14T09:27:00+00:00</td>\n",
       "      <td>2025-01-14T10:47:00+00:00</td>\n",
       "      <td>23907.0</td>\n",
       "      <td>120.0</td>\n",
       "      <td>False</td>\n",
       "      <td>09300</td>\n",
       "      <td>NaN</td>\n",
       "      <td>NaN</td>\n",
       "    </tr>\n",
       "    <tr>\n",
       "      <th>3</th>\n",
       "      <td>LIA</td>\n",
       "      <td>[]</td>\n",
       "      <td>2025-01-12T02:10:00+00:00</td>\n",
       "      <td>2025-01-12T04:35:00+00:00</td>\n",
       "      <td>23899.0</td>\n",
       "      <td>156.0</td>\n",
       "      <td>False</td>\n",
       "      <td>07100</td>\n",
       "      <td>NaN</td>\n",
       "      <td>NaN</td>\n",
       "    </tr>\n",
       "    <tr>\n",
       "      <th>4</th>\n",
       "      <td>SPE</td>\n",
       "      <td>[]</td>\n",
       "      <td>2025-01-12T04:35:00+00:00</td>\n",
       "      <td>2025-01-12T09:45:00+00:00</td>\n",
       "      <td>23900.0</td>\n",
       "      <td>478.0</td>\n",
       "      <td>False</td>\n",
       "      <td>07200</td>\n",
       "      <td>[{'sections': [{'start': 0, 'finish': 1, 'sect...</td>\n",
       "      <td>NaN</td>\n",
       "    </tr>\n",
       "  </tbody>\n",
       "</table>\n",
       "</div>"
      ],
      "text/plain": [
       "  type groupsLength                  startTime                arrivalTime  \\\n",
       "0  LIA           []  2025-01-14T04:05:00+00:00  2025-01-14T06:20:00+00:00   \n",
       "1  SPE           []  2025-01-14T06:20:00+00:00  2025-01-14T09:27:00+00:00   \n",
       "2  LIA           []  2025-01-14T09:27:00+00:00  2025-01-14T10:47:00+00:00   \n",
       "3  LIA           []  2025-01-12T02:10:00+00:00  2025-01-12T04:35:00+00:00   \n",
       "4  SPE           []  2025-01-12T04:35:00+00:00  2025-01-12T09:45:00+00:00   \n",
       "\n",
       "        id  length powerStage   code  \\\n",
       "0  23905.0   112.0      False  09100   \n",
       "1  23906.0   357.0      False  09200   \n",
       "2  23907.0   120.0      False  09300   \n",
       "3  23899.0   156.0      False  07100   \n",
       "4  23900.0   478.0      False  07200   \n",
       "\n",
       "                                             grounds  groupsLength.A_T5  \n",
       "0                                                NaN                NaN  \n",
       "1  [{'groundLangs': [{'locale': 'en', 'text': 'Gr...                NaN  \n",
       "2                                                NaN                NaN  \n",
       "3                                                NaN                NaN  \n",
       "4  [{'sections': [{'start': 0, 'finish': 1, 'sect...                NaN  "
      ]
     },
     "execution_count": 91,
     "metadata": {},
     "output_type": "execute_result"
    }
   ],
   "source": [
    "sectors_df = pd.json_normalize(stage_df[\"sectors\"].explode())\n",
    "\n",
    "sectors_df.head()"
   ]
  },
  {
   "cell_type": "markdown",
   "metadata": {},
   "source": [
    "The stage number is not explicitly listed,by we can derive it from the first two characters of the `code`.\n",
    "\n",
    "If the sector is an `SPE` type, we have the `grounds` information to play with. This is split over various sections, with start and finish distances identifying each section, as well as a surface type and a \"percentage\" value."
   ]
  },
  {
   "cell_type": "code",
   "execution_count": 93,
   "metadata": {},
   "outputs": [
    {
     "data": {
      "text/html": [
       "<div>\n",
       "<style scoped>\n",
       "    .dataframe tbody tr th:only-of-type {\n",
       "        vertical-align: middle;\n",
       "    }\n",
       "\n",
       "    .dataframe tbody tr th {\n",
       "        vertical-align: top;\n",
       "    }\n",
       "\n",
       "    .dataframe thead th {\n",
       "        text-align: right;\n",
       "    }\n",
       "</style>\n",
       "<table border=\"1\" class=\"dataframe\">\n",
       "  <thead>\n",
       "    <tr style=\"text-align: right;\">\n",
       "      <th></th>\n",
       "      <th>grounds</th>\n",
       "      <th>code</th>\n",
       "    </tr>\n",
       "  </thead>\n",
       "  <tbody>\n",
       "    <tr>\n",
       "      <th>1</th>\n",
       "      <td>{'groundLangs': [{'locale': 'en', 'text': 'Gra...</td>\n",
       "      <td>09200</td>\n",
       "    </tr>\n",
       "    <tr>\n",
       "      <th>1</th>\n",
       "      <td>{'sections': [{'section': 2, 'start': 9, 'fini...</td>\n",
       "      <td>09200</td>\n",
       "    </tr>\n",
       "    <tr>\n",
       "      <th>4</th>\n",
       "      <td>{'sections': [{'start': 0, 'finish': 1, 'secti...</td>\n",
       "      <td>07200</td>\n",
       "    </tr>\n",
       "    <tr>\n",
       "      <th>4</th>\n",
       "      <td>{'name': 'ground.name.2', 'percentage': 25, 'c...</td>\n",
       "      <td>07200</td>\n",
       "    </tr>\n",
       "    <tr>\n",
       "      <th>4</th>\n",
       "      <td>{'name': 'ground.name.3', 'percentage': 16, 'c...</td>\n",
       "      <td>07200</td>\n",
       "    </tr>\n",
       "  </tbody>\n",
       "</table>\n",
       "</div>"
      ],
      "text/plain": [
       "                                             grounds   code\n",
       "1  {'groundLangs': [{'locale': 'en', 'text': 'Gra...  09200\n",
       "1  {'sections': [{'section': 2, 'start': 9, 'fini...  09200\n",
       "4  {'sections': [{'start': 0, 'finish': 1, 'secti...  07200\n",
       "4  {'name': 'ground.name.2', 'percentage': 25, 'c...  07200\n",
       "4  {'name': 'ground.name.3', 'percentage': 16, 'c...  07200"
      ]
     },
     "execution_count": 93,
     "metadata": {},
     "output_type": "execute_result"
    }
   ],
   "source": [
    "# Get the sectors with grounds data\n",
    "competitive_sectors = sectors_df[['grounds', 'code']].dropna(\n",
    "    axis=\"index\").explode('grounds')\n",
    "\n",
    "# Cast the long sectors data to a dataframe\n",
    "#grounds_df = pd.json_normalize(competitive_sectors)\n",
    "\n",
    "competitive_sectors.head()"
   ]
  },
  {
   "cell_type": "markdown",
   "metadata": {},
   "source": [
    "It's not immediately clear to me what the best way of representung mixed surface types is, or how to interpret the `percentage` values, so I'm going to postpone my own further exploration of this data for now.\n",
    "\n",
    "That said, this data might support an interesting view of the stage make up, particularly when cross-referenced with waypoint locations. We might then be abel to identify different peroformance characteristics of different crews or vehicle types based on the predominant surface type betweemn waypoints."
   ]
  }
 ],
 "metadata": {
  "kernelspec": {
   "display_name": "Python 3",
   "language": "python",
   "name": "python3"
  },
  "language_info": {
   "codemirror_mode": {
    "name": "ipython",
    "version": 3
   },
   "file_extension": ".py",
   "mimetype": "text/x-python",
   "name": "python",
   "nbconvert_exporter": "python",
   "pygments_lexer": "ipython3",
   "version": "3.12.8"
  }
 },
 "nbformat": 4,
 "nbformat_minor": 2
}
