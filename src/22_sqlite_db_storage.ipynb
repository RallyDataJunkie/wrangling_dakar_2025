{
 "cells": [
  {
   "cell_type": "markdown",
   "metadata": {},
   "source": [
    "# `sqlite` Database Storage\n",
    "\n",
    "Having processed the data downloaded from the Dakar live data website and converted it to a tabular form, it makes sense to persist (that is, *save*) the processed data in a convenient form. We could save the data to simple flat CSV (comma separated variable) text files, to more complex file types such as `parquet` files, or to a database.\n",
    "\n",
    "If we use CSV files, then we need to load all the data in to in-memory `pandas` dataframes if we want to work with it. If we use a columnar file storage format such as `parquet`, we can more selectively read from the data file. The file also supports compression, which makes the saved files smaller than simple text files. Finally, we can store the data in a simple file based database such as SQLite, or a WASM based database, such as `pglite`, that is capable of persisting data in browser (or VS Code environment) storage."
   ]
  },
  {
   "cell_type": "markdown",
   "metadata": {},
   "source": []
  },
  {
   "cell_type": "code",
   "execution_count": null,
   "metadata": {
    "vscode": {
     "languageId": "plaintext"
    }
   },
   "outputs": [],
   "source": [
    "import sqlite3\n",
    "from sqlite_utils import Database\n",
    "\n",
    "dbname = 'dakar_2020.db'\n",
    "\n",
    "conn = sqlite3.connect(dbname)\n",
    "db = Database(conn)"
   ]
  },
  {
   "cell_type": "code",
   "execution_count": null,
   "metadata": {
    "vscode": {
     "languageId": "plaintext"
    }
   },
   "outputs": [],
   "source": [
    "from Dakar_Rally_2021 import dbfy\n",
    "\n",
    "conn25 = sqlite3.connect(\"test2025.db\")\n",
    "\n",
    "c25 = conn25.cursor()\n",
    "\n",
    "setup25_sql= 'dakar25.sql'\n",
    "\n",
    "with open(setup25_sql,'r') as f:\n",
    "     txt = f.read()\n",
    "     c25.executescript(txt)\n",
    "\n",
    "db25 =  Database(conn)"
   ]
  }
 ],
 "metadata": {
  "language_info": {
   "name": "python"
  }
 },
 "nbformat": 4,
 "nbformat_minor": 2
}
